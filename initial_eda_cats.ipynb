{
 "cells": [
  {
   "cell_type": "code",
   "execution_count": 1,
   "metadata": {
    "ExecuteTime": {
     "end_time": "2020-11-22T12:28:02.312060Z",
     "start_time": "2020-11-22T12:27:58.606007Z"
    }
   },
   "outputs": [
    {
     "data": {
      "text/html": [
       "<div>\n",
       "<style scoped>\n",
       "    .dataframe tbody tr th:only-of-type {\n",
       "        vertical-align: middle;\n",
       "    }\n",
       "\n",
       "    .dataframe tbody tr th {\n",
       "        vertical-align: top;\n",
       "    }\n",
       "\n",
       "    .dataframe thead th {\n",
       "        text-align: right;\n",
       "    }\n",
       "</style>\n",
       "<table border=\"1\" class=\"dataframe\">\n",
       "  <thead>\n",
       "    <tr style=\"text-align: right;\">\n",
       "      <th></th>\n",
       "      <th>Index</th>\n",
       "      <th>tags</th>\n",
       "      <th>channelId</th>\n",
       "      <th>channelTitle</th>\n",
       "      <th>categoryId</th>\n",
       "      <th>title</th>\n",
       "      <th>videoId</th>\n",
       "      <th>viewCount</th>\n",
       "      <th>likeCount</th>\n",
       "      <th>dislikeCount</th>\n",
       "      <th>commentCount</th>\n",
       "      <th>favoriteCount</th>\n",
       "      <th>thumbnails</th>\n",
       "      <th>descriptions</th>\n",
       "      <th>search_query</th>\n",
       "    </tr>\n",
       "  </thead>\n",
       "  <tbody>\n",
       "    <tr>\n",
       "      <td>0</td>\n",
       "      <td>0</td>\n",
       "      <td>['rufus', 'funny cat videos', 'cute cat videos...</td>\n",
       "      <td>UCzn2gx8zzhF0A4Utk8TEDNQ</td>\n",
       "      <td>Rufus</td>\n",
       "      <td>15</td>\n",
       "      <td>Cute and Funny Cat Videos to Keep You Smiling! 🐱</td>\n",
       "      <td>tpiyEe_CqB4</td>\n",
       "      <td>6186110.00</td>\n",
       "      <td>44767.00</td>\n",
       "      <td>4833.00</td>\n",
       "      <td>3028.00</td>\n",
       "      <td>0</td>\n",
       "      <td>{'default': {'url': 'https://i.ytimg.com/vi/tp...</td>\n",
       "      <td>hi hoomans! im rufus p goodboy and dis my yoot...</td>\n",
       "      <td>cat videos</td>\n",
       "    </tr>\n",
       "  </tbody>\n",
       "</table>\n",
       "</div>"
      ],
      "text/plain": [
       "   Index                                               tags  \\\n",
       "0      0  ['rufus', 'funny cat videos', 'cute cat videos...   \n",
       "\n",
       "                  channelId channelTitle  categoryId  \\\n",
       "0  UCzn2gx8zzhF0A4Utk8TEDNQ        Rufus          15   \n",
       "\n",
       "                                              title      videoId  viewCount  \\\n",
       "0  Cute and Funny Cat Videos to Keep You Smiling! 🐱  tpiyEe_CqB4 6186110.00   \n",
       "\n",
       "   likeCount  dislikeCount  commentCount  favoriteCount  \\\n",
       "0   44767.00       4833.00       3028.00              0   \n",
       "\n",
       "                                          thumbnails  \\\n",
       "0  {'default': {'url': 'https://i.ytimg.com/vi/tp...   \n",
       "\n",
       "                                        descriptions search_query  \n",
       "0  hi hoomans! im rufus p goodboy and dis my yoot...   cat videos  "
      ]
     },
     "execution_count": 1,
     "metadata": {},
     "output_type": "execute_result"
    }
   ],
   "source": [
    "import numpy as np\n",
    "import pandas as pd\n",
    "import matplotlib.pyplot as plt\n",
    "import seaborn as sns\n",
    "from sklearn.cluster import KMeans\n",
    "%matplotlib inline\n",
    "sns.set()\n",
    "pd.set_option('display.float_format', lambda x: '%.2f' % x)  # just nice formatting\n",
    "\n",
    "# keywords used: funny cats, cat compilation, cat videos, cats\n",
    "\n",
    "# read data in\n",
    "df = pd.read_csv('cat_test_results_trial.csv')\n",
    "df.head(1)"
   ]
  },
  {
   "cell_type": "code",
   "execution_count": 2,
   "metadata": {
    "ExecuteTime": {
     "end_time": "2020-11-22T12:28:02.371525Z",
     "start_time": "2020-11-22T12:28:02.316231Z"
    }
   },
   "outputs": [
    {
     "name": "stdout",
     "output_type": "stream",
     "text": [
      "<class 'pandas.core.frame.DataFrame'>\n",
      "RangeIndex: 29636 entries, 0 to 29635\n",
      "Data columns (total 15 columns):\n",
      "Index            29636 non-null int64\n",
      "tags             26078 non-null object\n",
      "channelId        29636 non-null object\n",
      "channelTitle     29636 non-null object\n",
      "categoryId       29636 non-null int64\n",
      "title            29636 non-null object\n",
      "videoId          29636 non-null object\n",
      "viewCount        29580 non-null float64\n",
      "likeCount        29324 non-null float64\n",
      "dislikeCount     29324 non-null float64\n",
      "commentCount     26937 non-null float64\n",
      "favoriteCount    29636 non-null int64\n",
      "thumbnails       29636 non-null object\n",
      "descriptions     29158 non-null object\n",
      "search_query     29636 non-null object\n",
      "dtypes: float64(4), int64(3), object(8)\n",
      "memory usage: 3.4+ MB\n"
     ]
    }
   ],
   "source": [
    "# quick examine data columns\n",
    "df.info()"
   ]
  },
  {
   "cell_type": "code",
   "execution_count": 3,
   "metadata": {
    "ExecuteTime": {
     "end_time": "2020-11-22T12:28:02.417217Z",
     "start_time": "2020-11-22T12:28:02.401110Z"
    }
   },
   "outputs": [],
   "source": [
    "# defining relevant numerical and categorical columns\n",
    "numerical_cols = ['viewCount', 'likeCount', 'dislikeCount', 'commentCount', 'favoriteCount']\n",
    "categorical_cols = ['tags', 'channelTitle', 'title', 'descriptions']"
   ]
  },
  {
   "cell_type": "code",
   "execution_count": 4,
   "metadata": {
    "ExecuteTime": {
     "end_time": "2020-11-22T12:28:02.507371Z",
     "start_time": "2020-11-22T12:28:02.429763Z"
    }
   },
   "outputs": [
    {
     "data": {
      "text/html": [
       "<div>\n",
       "<style scoped>\n",
       "    .dataframe tbody tr th:only-of-type {\n",
       "        vertical-align: middle;\n",
       "    }\n",
       "\n",
       "    .dataframe tbody tr th {\n",
       "        vertical-align: top;\n",
       "    }\n",
       "\n",
       "    .dataframe thead th {\n",
       "        text-align: right;\n",
       "    }\n",
       "</style>\n",
       "<table border=\"1\" class=\"dataframe\">\n",
       "  <thead>\n",
       "    <tr style=\"text-align: right;\">\n",
       "      <th></th>\n",
       "      <th>viewCount</th>\n",
       "      <th>likeCount</th>\n",
       "      <th>dislikeCount</th>\n",
       "      <th>commentCount</th>\n",
       "      <th>favoriteCount</th>\n",
       "    </tr>\n",
       "  </thead>\n",
       "  <tbody>\n",
       "    <tr>\n",
       "      <td>count</td>\n",
       "      <td>29580.00</td>\n",
       "      <td>29324.00</td>\n",
       "      <td>29324.00</td>\n",
       "      <td>26937.00</td>\n",
       "      <td>29636.00</td>\n",
       "    </tr>\n",
       "    <tr>\n",
       "      <td>mean</td>\n",
       "      <td>10832426.82</td>\n",
       "      <td>72944.52</td>\n",
       "      <td>12195.40</td>\n",
       "      <td>3799.85</td>\n",
       "      <td>0.00</td>\n",
       "    </tr>\n",
       "    <tr>\n",
       "      <td>std</td>\n",
       "      <td>42778808.89</td>\n",
       "      <td>234174.18</td>\n",
       "      <td>69002.07</td>\n",
       "      <td>18660.95</td>\n",
       "      <td>0.00</td>\n",
       "    </tr>\n",
       "    <tr>\n",
       "      <td>min</td>\n",
       "      <td>0.00</td>\n",
       "      <td>0.00</td>\n",
       "      <td>0.00</td>\n",
       "      <td>0.00</td>\n",
       "      <td>0.00</td>\n",
       "    </tr>\n",
       "    <tr>\n",
       "      <td>25%</td>\n",
       "      <td>8249.00</td>\n",
       "      <td>103.00</td>\n",
       "      <td>5.00</td>\n",
       "      <td>6.00</td>\n",
       "      <td>0.00</td>\n",
       "    </tr>\n",
       "    <tr>\n",
       "      <td>50%</td>\n",
       "      <td>336092.00</td>\n",
       "      <td>3611.00</td>\n",
       "      <td>203.00</td>\n",
       "      <td>89.00</td>\n",
       "      <td>0.00</td>\n",
       "    </tr>\n",
       "    <tr>\n",
       "      <td>75%</td>\n",
       "      <td>4864670.00</td>\n",
       "      <td>38299.00</td>\n",
       "      <td>3094.00</td>\n",
       "      <td>1112.00</td>\n",
       "      <td>0.00</td>\n",
       "    </tr>\n",
       "    <tr>\n",
       "      <td>max</td>\n",
       "      <td>1542787799.00</td>\n",
       "      <td>3990614.00</td>\n",
       "      <td>1890226.00</td>\n",
       "      <td>522152.00</td>\n",
       "      <td>0.00</td>\n",
       "    </tr>\n",
       "  </tbody>\n",
       "</table>\n",
       "</div>"
      ],
      "text/plain": [
       "          viewCount  likeCount  dislikeCount  commentCount  favoriteCount\n",
       "count      29580.00   29324.00      29324.00      26937.00       29636.00\n",
       "mean    10832426.82   72944.52      12195.40       3799.85           0.00\n",
       "std     42778808.89  234174.18      69002.07      18660.95           0.00\n",
       "min            0.00       0.00          0.00          0.00           0.00\n",
       "25%         8249.00     103.00          5.00          6.00           0.00\n",
       "50%       336092.00    3611.00        203.00         89.00           0.00\n",
       "75%      4864670.00   38299.00       3094.00       1112.00           0.00\n",
       "max   1542787799.00 3990614.00    1890226.00     522152.00           0.00"
      ]
     },
     "execution_count": 4,
     "metadata": {},
     "output_type": "execute_result"
    }
   ],
   "source": [
    "# look at descriptive stats of numerical variables\n",
    "df[numerical_cols].describe()"
   ]
  },
  {
   "cell_type": "code",
   "execution_count": 5,
   "metadata": {
    "ExecuteTime": {
     "end_time": "2020-11-22T12:28:02.610413Z",
     "start_time": "2020-11-22T12:28:02.533223Z"
    }
   },
   "outputs": [
    {
     "data": {
      "text/html": [
       "<div>\n",
       "<style scoped>\n",
       "    .dataframe tbody tr th:only-of-type {\n",
       "        vertical-align: middle;\n",
       "    }\n",
       "\n",
       "    .dataframe tbody tr th {\n",
       "        vertical-align: top;\n",
       "    }\n",
       "\n",
       "    .dataframe thead th {\n",
       "        text-align: right;\n",
       "    }\n",
       "</style>\n",
       "<table border=\"1\" class=\"dataframe\">\n",
       "  <thead>\n",
       "    <tr style=\"text-align: right;\">\n",
       "      <th></th>\n",
       "      <th>tags</th>\n",
       "      <th>channelTitle</th>\n",
       "      <th>title</th>\n",
       "      <th>descriptions</th>\n",
       "    </tr>\n",
       "  </thead>\n",
       "  <tbody>\n",
       "    <tr>\n",
       "      <td>count</td>\n",
       "      <td>26078</td>\n",
       "      <td>29636</td>\n",
       "      <td>29636</td>\n",
       "      <td>29158</td>\n",
       "    </tr>\n",
       "    <tr>\n",
       "      <td>unique</td>\n",
       "      <td>1209</td>\n",
       "      <td>863</td>\n",
       "      <td>1621</td>\n",
       "      <td>1450</td>\n",
       "    </tr>\n",
       "    <tr>\n",
       "      <td>top</td>\n",
       "      <td>['baby cats', 'baby cat', 'cat baby', 'cute ba...</td>\n",
       "      <td>CutieCatCute</td>\n",
       "      <td>Funniest Cats 😹 - Don&amp;#39;t try to hold back L...</td>\n",
       "      <td>Please watch this, Most Satisfying Moment MSM ...</td>\n",
       "    </tr>\n",
       "    <tr>\n",
       "      <td>freq</td>\n",
       "      <td>649</td>\n",
       "      <td>2035</td>\n",
       "      <td>466</td>\n",
       "      <td>2035</td>\n",
       "    </tr>\n",
       "  </tbody>\n",
       "</table>\n",
       "</div>"
      ],
      "text/plain": [
       "                                                     tags  channelTitle  \\\n",
       "count                                               26078         29636   \n",
       "unique                                               1209           863   \n",
       "top     ['baby cats', 'baby cat', 'cat baby', 'cute ba...  CutieCatCute   \n",
       "freq                                                  649          2035   \n",
       "\n",
       "                                                    title  \\\n",
       "count                                               29636   \n",
       "unique                                               1621   \n",
       "top     Funniest Cats 😹 - Don&#39;t try to hold back L...   \n",
       "freq                                                  466   \n",
       "\n",
       "                                             descriptions  \n",
       "count                                               29158  \n",
       "unique                                               1450  \n",
       "top     Please watch this, Most Satisfying Moment MSM ...  \n",
       "freq                                                 2035  "
      ]
     },
     "execution_count": 5,
     "metadata": {},
     "output_type": "execute_result"
    }
   ],
   "source": [
    "# look at descriptive stats of categorical variables\n",
    "df[categorical_cols].describe(include='all')"
   ]
  },
  {
   "cell_type": "code",
   "execution_count": 6,
   "metadata": {
    "ExecuteTime": {
     "end_time": "2020-11-22T12:28:02.705905Z",
     "start_time": "2020-11-22T12:28:02.615593Z"
    }
   },
   "outputs": [
    {
     "data": {
      "text/plain": [
       "True     27384\n",
       "False     2252\n",
       "Name: Relevant, dtype: int64"
      ]
     },
     "execution_count": 6,
     "metadata": {},
     "output_type": "execute_result"
    }
   ],
   "source": [
    "# simple way to get rid of false positives from scraper\n",
    "df['Relevant'] = df['title'].str.contains('cat|kitten', case=False)\n",
    "df['Relevant'].value_counts()"
   ]
  },
  {
   "cell_type": "code",
   "execution_count": 7,
   "metadata": {
    "ExecuteTime": {
     "end_time": "2020-11-22T12:28:02.776477Z",
     "start_time": "2020-11-22T12:28:02.737969Z"
    }
   },
   "outputs": [
    {
     "data": {
      "text/plain": [
       "47       Talking Angela - Summer Fun at the Beach with ...\n",
       "97       Talking Angela - Summer Fun at the Beach with ...\n",
       "101      Aaron&#39;s Animals NEW VIDEO COMPILATION 2017...\n",
       "105      Hide and Seek Challenge 🏆 🔹NEW CARTOON🔹Talking...\n",
       "197      Talking Angela - Summer Fun at the Beach with ...\n",
       "                               ...                        \n",
       "29625    Tom &amp; Jerry | Scary Tom &amp; Jerry! | Cla...\n",
       "29627    Tom &amp; Jerry | Tom &amp; The Two Mouseketee...\n",
       "29628    Tom &amp; Jerry | Food Fight! | Classic Cartoo...\n",
       "29630    😺 Sabrina the Animated Series | Best of Salem ...\n",
       "29634    Tom &amp; Jerry | Say Cheese! | Classic Cartoo...\n",
       "Name: title, Length: 2252, dtype: object"
      ]
     },
     "execution_count": 7,
     "metadata": {},
     "output_type": "execute_result"
    }
   ],
   "source": [
    "# check which ones are false\n",
    "df.loc[df['Relevant']==False]['title']"
   ]
  },
  {
   "cell_type": "code",
   "execution_count": 8,
   "metadata": {
    "ExecuteTime": {
     "end_time": "2020-11-22T12:28:02.878375Z",
     "start_time": "2020-11-22T12:28:02.799171Z"
    }
   },
   "outputs": [
    {
     "name": "stdout",
     "output_type": "stream",
     "text": [
      "<class 'pandas.core.frame.DataFrame'>\n",
      "Int64Index: 21477 entries, 0 to 29635\n",
      "Data columns (total 15 columns):\n",
      "Index            21477 non-null int64\n",
      "tags             21477 non-null object\n",
      "channelId        21477 non-null object\n",
      "channelTitle     21477 non-null object\n",
      "categoryId       21477 non-null int64\n",
      "title            21477 non-null object\n",
      "videoId          21477 non-null object\n",
      "viewCount        21477 non-null float64\n",
      "likeCount        21477 non-null float64\n",
      "dislikeCount     21477 non-null float64\n",
      "commentCount     21477 non-null float64\n",
      "favoriteCount    21477 non-null int64\n",
      "thumbnails       21477 non-null object\n",
      "descriptions     21477 non-null object\n",
      "search_query     21477 non-null object\n",
      "dtypes: float64(4), int64(3), object(8)\n",
      "memory usage: 2.6+ MB\n"
     ]
    }
   ],
   "source": [
    "# only keep relevant\n",
    "df_processed = df.loc[df['Relevant']==True].dropna().drop(columns='Relevant')\n",
    "df_processed.info()"
   ]
  },
  {
   "cell_type": "code",
   "execution_count": 9,
   "metadata": {
    "ExecuteTime": {
     "end_time": "2020-11-22T12:28:03.405610Z",
     "start_time": "2020-11-22T12:28:02.886984Z"
    }
   },
   "outputs": [
    {
     "name": "stdout",
     "output_type": "stream",
     "text": [
      "       likeCount  dislikeCount\n",
      "0       44767.00       4833.00\n",
      "1      100959.00      16171.00\n",
      "2       73669.00      36282.00\n",
      "4       70991.00      29300.00\n",
      "5      464550.00      90168.00\n",
      "...          ...           ...\n",
      "29629       1.00          0.00\n",
      "29631     167.00          6.00\n",
      "29632    3568.00        160.00\n",
      "29633      12.00          2.00\n",
      "29635       0.00          1.00\n",
      "\n",
      "[21477 rows x 2 columns]\n"
     ]
    },
    {
     "data": {
      "image/png": "[encoded data removed]",
      "text/plain": [
       "<Figure size 432x288 with 1 Axes>"
      ]
     },
     "metadata": {
      "needs_background": "light"
     },
     "output_type": "display_data"
    }
   ],
   "source": [
    "# plot for investigating like and dislike\n",
    "like_dislike_subset = df_processed[['likeCount', 'dislikeCount']]\n",
    "\n",
    "print(like_dislike_subset)\n",
    "plt.scatter(like_dislike_subset['likeCount'], like_dislike_subset['dislikeCount'])\n",
    "plt.show()"
   ]
  },
  {
   "cell_type": "code",
   "execution_count": 10,
   "metadata": {
    "ExecuteTime": {
     "end_time": "2020-11-22T12:28:03.450081Z",
     "start_time": "2020-11-22T12:28:03.410455Z"
    }
   },
   "outputs": [],
   "source": [
    "# remove outliers\n",
    "edited_subset = like_dislike_subset[\n",
    "    np.abs(like_dislike_subset-like_dislike_subset.mean())<=(3*like_dislike_subset.std())\n",
    "].dropna()"
   ]
  },
  {
   "cell_type": "code",
   "execution_count": 11,
   "metadata": {
    "ExecuteTime": {
     "end_time": "2020-11-22T12:28:03.905165Z",
     "start_time": "2020-11-22T12:28:03.452334Z"
    }
   },
   "outputs": [
    {
     "name": "stdout",
     "output_type": "stream",
     "text": [
      "       likeCount  dislikeCount\n",
      "0       44767.00       4833.00\n",
      "1      100959.00      16171.00\n",
      "2       73669.00      36282.00\n",
      "4       70991.00      29300.00\n",
      "6        8669.00        767.00\n",
      "...          ...           ...\n",
      "29629       1.00          0.00\n",
      "29631     167.00          6.00\n",
      "29632    3568.00        160.00\n",
      "29633      12.00          2.00\n",
      "29635       0.00          1.00\n",
      "\n",
      "[20999 rows x 2 columns]\n"
     ]
    },
    {
     "data": {
      "image/png": "[encoded data removed]",
      "text/plain": [
       "<Figure size 432x288 with 1 Axes>"
      ]
     },
     "metadata": {
      "needs_background": "light"
     },
     "output_type": "display_data"
    }
   ],
   "source": [
    "# replot for investigating without outliers\n",
    "print(edited_subset)\n",
    "plt.scatter(edited_subset['likeCount'], edited_subset['dislikeCount'])\n",
    "plt.show()"
   ]
  },
  {
   "cell_type": "code",
   "execution_count": 12,
   "metadata": {
    "ExecuteTime": {
     "end_time": "2020-11-22T12:28:05.715110Z",
     "start_time": "2020-11-22T12:28:03.909846Z"
    }
   },
   "outputs": [
    {
     "data": {
      "image/png": "[encoded data removed]",
      "text/plain": [
       "<Figure size 432x288 with 1 Axes>"
      ]
     },
     "metadata": {
      "needs_background": "light"
     },
     "output_type": "display_data"
    }
   ],
   "source": [
    "# trying kmeans\n",
    "kmeans = KMeans(5)\n",
    "kmeans.fit(edited_subset)\n",
    "identified_clusters = kmeans.fit_predict(edited_subset)\n",
    "data_with_clusters = edited_subset.copy()\n",
    "data_with_clusters['Cluster'] = identified_clusters\n",
    "plt.scatter(data_with_clusters['likeCount'], data_with_clusters['dislikeCount'], \n",
    "            c=data_with_clusters['Cluster'], cmap='rainbow')\n",
    "plt.show()"
   ]
  },
  {
   "cell_type": "code",
   "execution_count": 13,
   "metadata": {
    "ExecuteTime": {
     "end_time": "2020-11-22T12:28:05.753728Z",
     "start_time": "2020-11-22T12:28:05.718426Z"
    }
   },
   "outputs": [
    {
     "data": {
      "text/plain": [
       "0        9.26\n",
       "1        6.24\n",
       "2        2.03\n",
       "4        2.42\n",
       "5        5.15\n",
       "         ... \n",
       "29629     inf\n",
       "29631   27.83\n",
       "29632   22.30\n",
       "29633    6.00\n",
       "29635    0.00\n",
       "Name: Quality Metric, Length: 21477, dtype: float64"
      ]
     },
     "execution_count": 13,
     "metadata": {},
     "output_type": "execute_result"
    }
   ],
   "source": [
    "# arbitrarily deciding if a video is good or not with like and dislike ratio\n",
    "# using 36:1 like:dislike (estimate based on fifth rightmost cluster => 550,000/15,000)\n",
    "\n",
    "df_processed['Quality Metric'] = df_processed['likeCount'] / df_processed['dislikeCount']\n",
    "df_processed['Quality Metric']"
   ]
  },
  {
   "cell_type": "code",
   "execution_count": 23,
   "metadata": {
    "ExecuteTime": {
     "end_time": "2020-11-22T12:31:02.582118Z",
     "start_time": "2020-11-22T12:31:02.565543Z"
    }
   },
   "outputs": [
    {
     "data": {
      "text/plain": [
       "0        0\n",
       "1        0\n",
       "2        0\n",
       "4        0\n",
       "5        0\n",
       "        ..\n",
       "29629    1\n",
       "29631    0\n",
       "29632    0\n",
       "29633    0\n",
       "29635    0\n",
       "Name: Quality, Length: 21477, dtype: int64"
      ]
     },
     "execution_count": 23,
     "metadata": {},
     "output_type": "execute_result"
    }
   ],
   "source": [
    "# creating end classification column (1 is good 0 is bad)\n",
    "df_processed['Quality'] = np.where(df_processed['Quality Metric']>36, 1, 0)\n",
    "df_processed['Quality']"
   ]
  },
  {
   "cell_type": "code",
   "execution_count": 24,
   "metadata": {
    "ExecuteTime": {
     "end_time": "2020-11-22T12:31:02.782887Z",
     "start_time": "2020-11-22T12:31:02.734952Z"
    }
   },
   "outputs": [
    {
     "data": {
      "text/html": [
       "<div>\n",
       "<style scoped>\n",
       "    .dataframe tbody tr th:only-of-type {\n",
       "        vertical-align: middle;\n",
       "    }\n",
       "\n",
       "    .dataframe tbody tr th {\n",
       "        vertical-align: top;\n",
       "    }\n",
       "\n",
       "    .dataframe thead th {\n",
       "        text-align: right;\n",
       "    }\n",
       "</style>\n",
       "<table border=\"1\" class=\"dataframe\">\n",
       "  <thead>\n",
       "    <tr style=\"text-align: right;\">\n",
       "      <th></th>\n",
       "      <th>Index</th>\n",
       "      <th>tags</th>\n",
       "      <th>channelId</th>\n",
       "      <th>channelTitle</th>\n",
       "      <th>categoryId</th>\n",
       "      <th>title</th>\n",
       "      <th>videoId</th>\n",
       "      <th>viewCount</th>\n",
       "      <th>likeCount</th>\n",
       "      <th>dislikeCount</th>\n",
       "      <th>commentCount</th>\n",
       "      <th>favoriteCount</th>\n",
       "      <th>thumbnails</th>\n",
       "      <th>descriptions</th>\n",
       "      <th>search_query</th>\n",
       "      <th>Quality Metric</th>\n",
       "      <th>Quality</th>\n",
       "    </tr>\n",
       "  </thead>\n",
       "  <tbody>\n",
       "    <tr>\n",
       "      <td>46</td>\n",
       "      <td>46</td>\n",
       "      <td>['Bilal Göregen', 'Bilal', 'Göregen', 'müzik',...</td>\n",
       "      <td>UCJKTabEKg3qzzDhddAzJPGA</td>\n",
       "      <td>Bilal Göregen</td>\n",
       "      <td>22</td>\n",
       "      <td>Cat Vibing To Ievan Polkka (Official Video HD)...</td>\n",
       "      <td>NUYvbT6vTPs</td>\n",
       "      <td>12197039.00</td>\n",
       "      <td>901282.00</td>\n",
       "      <td>6223.00</td>\n",
       "      <td>43385.00</td>\n",
       "      <td>0</td>\n",
       "      <td>{'default': {'url': 'https://i.ytimg.com/vi/NU...</td>\n",
       "      <td>Cat Vibing To Ievan Polkka - Street Drummer Wi...</td>\n",
       "      <td>cat videos</td>\n",
       "      <td>144.83</td>\n",
       "      <td>1</td>\n",
       "    </tr>\n",
       "    <tr>\n",
       "      <td>96</td>\n",
       "      <td>46</td>\n",
       "      <td>['Bilal Göregen', 'Bilal', 'Göregen', 'müzik',...</td>\n",
       "      <td>UCJKTabEKg3qzzDhddAzJPGA</td>\n",
       "      <td>Bilal Göregen</td>\n",
       "      <td>22</td>\n",
       "      <td>Cat Vibing To Ievan Polkka (Official Video HD)...</td>\n",
       "      <td>NUYvbT6vTPs</td>\n",
       "      <td>12197039.00</td>\n",
       "      <td>901282.00</td>\n",
       "      <td>6223.00</td>\n",
       "      <td>43385.00</td>\n",
       "      <td>0</td>\n",
       "      <td>{'default': {'url': 'https://i.ytimg.com/vi/NU...</td>\n",
       "      <td>Cat Vibing To Ievan Polkka - Street Drummer Wi...</td>\n",
       "      <td>cat videos</td>\n",
       "      <td>144.83</td>\n",
       "      <td>1</td>\n",
       "    </tr>\n",
       "    <tr>\n",
       "      <td>102</td>\n",
       "      <td>2</td>\n",
       "      <td>['cute couples', 'cute puppies', 'cute', 'funn...</td>\n",
       "      <td>UClpG8a39oAAMNJ1vd8_4uOg</td>\n",
       "      <td>Kapig Home</td>\n",
       "      <td>24</td>\n",
       "      <td>Cute and Funny Cat Videos Compilation</td>\n",
       "      <td>0vGh2rG3iNE</td>\n",
       "      <td>94.00</td>\n",
       "      <td>2.00</td>\n",
       "      <td>0.00</td>\n",
       "      <td>1.00</td>\n",
       "      <td>0</td>\n",
       "      <td>{'default': {'url': 'https://i.ytimg.com/vi/0v...</td>\n",
       "      <td>#Animal #Cute #Puppies\\n\\nCute and Funny Cat V...</td>\n",
       "      <td>cat videos</td>\n",
       "      <td>inf</td>\n",
       "      <td>1</td>\n",
       "    </tr>\n",
       "    <tr>\n",
       "      <td>122</td>\n",
       "      <td>22</td>\n",
       "      <td>['funny cat videos', 'cute cat videos', 'anima...</td>\n",
       "      <td>UCjDhQK5hSg7JEg8UYG-62AQ</td>\n",
       "      <td>Yufus</td>\n",
       "      <td>15</td>\n",
       "      <td>Try to stay SERIOUS -FUNNIEST And CUTEST CAT V...</td>\n",
       "      <td>Dz3QJmNI0_4</td>\n",
       "      <td>3352.00</td>\n",
       "      <td>86.00</td>\n",
       "      <td>2.00</td>\n",
       "      <td>9.00</td>\n",
       "      <td>0</td>\n",
       "      <td>{'default': {'url': 'https://i.ytimg.com/vi/Dz...</td>\n",
       "      <td>The best and funniest cat videos ever! Get rea...</td>\n",
       "      <td>cat videos</td>\n",
       "      <td>43.00</td>\n",
       "      <td>1</td>\n",
       "    </tr>\n",
       "    <tr>\n",
       "      <td>137</td>\n",
       "      <td>37</td>\n",
       "      <td>['aarons animals', 'aarons', 'animals', 'cat',...</td>\n",
       "      <td>UCNo5PGwGmfnEprEUUb9AGgw</td>\n",
       "      <td>AaronsAnimals</td>\n",
       "      <td>15</td>\n",
       "      <td>How to Make a Cat Video</td>\n",
       "      <td>1Ne1hqOXKKI</td>\n",
       "      <td>6627810.00</td>\n",
       "      <td>145930.00</td>\n",
       "      <td>3861.00</td>\n",
       "      <td>6586.00</td>\n",
       "      <td>0</td>\n",
       "      <td>{'default': {'url': 'https://i.ytimg.com/vi/1N...</td>\n",
       "      <td>A look behind the scenes at Aaron's Animals an...</td>\n",
       "      <td>cat videos</td>\n",
       "      <td>37.80</td>\n",
       "      <td>1</td>\n",
       "    </tr>\n",
       "    <tr>\n",
       "      <td>...</td>\n",
       "      <td>...</td>\n",
       "      <td>...</td>\n",
       "      <td>...</td>\n",
       "      <td>...</td>\n",
       "      <td>...</td>\n",
       "      <td>...</td>\n",
       "      <td>...</td>\n",
       "      <td>...</td>\n",
       "      <td>...</td>\n",
       "      <td>...</td>\n",
       "      <td>...</td>\n",
       "      <td>...</td>\n",
       "      <td>...</td>\n",
       "      <td>...</td>\n",
       "      <td>...</td>\n",
       "      <td>...</td>\n",
       "      <td>...</td>\n",
       "    </tr>\n",
       "    <tr>\n",
       "      <td>29609</td>\n",
       "      <td>2</td>\n",
       "      <td>['video', 'Tiktok', 'compilation', 'compilatio...</td>\n",
       "      <td>UCF_cpRQUDjA2JL6R-_WR2jw</td>\n",
       "      <td>luna</td>\n",
       "      <td>24</td>\n",
       "      <td>MY FAVE CAT VIDS 🐱 pt. 1 | TikTok Compilation</td>\n",
       "      <td>sBXlhPINRHs</td>\n",
       "      <td>5085.00</td>\n",
       "      <td>141.00</td>\n",
       "      <td>1.00</td>\n",
       "      <td>12.00</td>\n",
       "      <td>0</td>\n",
       "      <td>{'default': {'url': 'https://i.ytimg.com/vi/sB...</td>\n",
       "      <td>New video's every week! ✨\\n---\\nIf you read th...</td>\n",
       "      <td>cat compilation</td>\n",
       "      <td>141.00</td>\n",
       "      <td>1</td>\n",
       "    </tr>\n",
       "    <tr>\n",
       "      <td>29614</td>\n",
       "      <td>8</td>\n",
       "      <td>['Cute and Funny Faces Compilation', 'Bowie Th...</td>\n",
       "      <td>UC3lIanUTuz-QsQT0WT7ZqRg</td>\n",
       "      <td>Bowie The Ragdoll Cat</td>\n",
       "      <td>15</td>\n",
       "      <td>3 minutes Ragdoll Cat&amp;#39;s Cute and Funny Fac...</td>\n",
       "      <td>edb9EdpjrCM</td>\n",
       "      <td>4374.00</td>\n",
       "      <td>169.00</td>\n",
       "      <td>2.00</td>\n",
       "      <td>16.00</td>\n",
       "      <td>0</td>\n",
       "      <td>{'default': {'url': 'https://i.ytimg.com/vi/ed...</td>\n",
       "      <td>Compilation of cute and funny faces from Bowie...</td>\n",
       "      <td>cat compilation</td>\n",
       "      <td>84.50</td>\n",
       "      <td>1</td>\n",
       "    </tr>\n",
       "    <tr>\n",
       "      <td>29615</td>\n",
       "      <td>9</td>\n",
       "      <td>['game grumps', 'gamegrumps', 'compilation', '...</td>\n",
       "      <td>UCNEBRUhjGcQB6fYzBfDaq0w</td>\n",
       "      <td>Game Grumps Compilations</td>\n",
       "      <td>20</td>\n",
       "      <td>The Ultimate Big Cat Compilation - Game Grumps...</td>\n",
       "      <td>XJG3B_R7kX8</td>\n",
       "      <td>337161.00</td>\n",
       "      <td>10063.00</td>\n",
       "      <td>81.00</td>\n",
       "      <td>389.00</td>\n",
       "      <td>0</td>\n",
       "      <td>{'default': {'url': 'https://i.ytimg.com/vi/XJ...</td>\n",
       "      <td>This GameGrumps compilation was made 100% as a...</td>\n",
       "      <td>cat compilation</td>\n",
       "      <td>124.23</td>\n",
       "      <td>1</td>\n",
       "    </tr>\n",
       "    <tr>\n",
       "      <td>29624</td>\n",
       "      <td>18</td>\n",
       "      <td>['Funny', 'Viral', 'Comedy', 'Fun', 'lol', 'Pe...</td>\n",
       "      <td>UCxAO5v1S7xoYCq-S2vR_bMg</td>\n",
       "      <td>DUMBSTORE</td>\n",
       "      <td>15</td>\n",
       "      <td>Funny Crazy Cats Compilation 2017 !!!!!</td>\n",
       "      <td>aAK7qZU48to</td>\n",
       "      <td>719.00</td>\n",
       "      <td>10.00</td>\n",
       "      <td>0.00</td>\n",
       "      <td>0.00</td>\n",
       "      <td>0</td>\n",
       "      <td>{'default': {'url': 'https://i.ytimg.com/vi/aA...</td>\n",
       "      <td>Subscribe for more comedy &amp; funny DUMBSTORE vi...</td>\n",
       "      <td>cat compilation</td>\n",
       "      <td>inf</td>\n",
       "      <td>1</td>\n",
       "    </tr>\n",
       "    <tr>\n",
       "      <td>29629</td>\n",
       "      <td>23</td>\n",
       "      <td>['YouTube Editor']</td>\n",
       "      <td>UCF5l2Zq2GN68FFTDcSY1BDg</td>\n",
       "      <td>Must Watch</td>\n",
       "      <td>22</td>\n",
       "      <td>1 HOUR  Funny Cats Compilation</td>\n",
       "      <td>9_9PilmkXdA</td>\n",
       "      <td>178.00</td>\n",
       "      <td>1.00</td>\n",
       "      <td>0.00</td>\n",
       "      <td>0.00</td>\n",
       "      <td>0</td>\n",
       "      <td>{'default': {'url': 'https://i.ytimg.com/vi/9_...</td>\n",
       "      <td>I created this video with the YouTube Video Ed...</td>\n",
       "      <td>cat compilation</td>\n",
       "      <td>inf</td>\n",
       "      <td>1</td>\n",
       "    </tr>\n",
       "  </tbody>\n",
       "</table>\n",
       "<p>6331 rows × 17 columns</p>\n",
       "</div>"
      ],
      "text/plain": [
       "       Index                                               tags  \\\n",
       "46        46  ['Bilal Göregen', 'Bilal', 'Göregen', 'müzik',...   \n",
       "96        46  ['Bilal Göregen', 'Bilal', 'Göregen', 'müzik',...   \n",
       "102        2  ['cute couples', 'cute puppies', 'cute', 'funn...   \n",
       "122       22  ['funny cat videos', 'cute cat videos', 'anima...   \n",
       "137       37  ['aarons animals', 'aarons', 'animals', 'cat',...   \n",
       "...      ...                                                ...   \n",
       "29609      2  ['video', 'Tiktok', 'compilation', 'compilatio...   \n",
       "29614      8  ['Cute and Funny Faces Compilation', 'Bowie Th...   \n",
       "29615      9  ['game grumps', 'gamegrumps', 'compilation', '...   \n",
       "29624     18  ['Funny', 'Viral', 'Comedy', 'Fun', 'lol', 'Pe...   \n",
       "29629     23                                 ['YouTube Editor']   \n",
       "\n",
       "                      channelId              channelTitle  categoryId  \\\n",
       "46     UCJKTabEKg3qzzDhddAzJPGA             Bilal Göregen          22   \n",
       "96     UCJKTabEKg3qzzDhddAzJPGA             Bilal Göregen          22   \n",
       "102    UClpG8a39oAAMNJ1vd8_4uOg                Kapig Home          24   \n",
       "122    UCjDhQK5hSg7JEg8UYG-62AQ                     Yufus          15   \n",
       "137    UCNo5PGwGmfnEprEUUb9AGgw             AaronsAnimals          15   \n",
       "...                         ...                       ...         ...   \n",
       "29609  UCF_cpRQUDjA2JL6R-_WR2jw                      luna          24   \n",
       "29614  UC3lIanUTuz-QsQT0WT7ZqRg     Bowie The Ragdoll Cat          15   \n",
       "29615  UCNEBRUhjGcQB6fYzBfDaq0w  Game Grumps Compilations          20   \n",
       "29624  UCxAO5v1S7xoYCq-S2vR_bMg                 DUMBSTORE          15   \n",
       "29629  UCF5l2Zq2GN68FFTDcSY1BDg                Must Watch          22   \n",
       "\n",
       "                                                   title      videoId  \\\n",
       "46     Cat Vibing To Ievan Polkka (Official Video HD)...  NUYvbT6vTPs   \n",
       "96     Cat Vibing To Ievan Polkka (Official Video HD)...  NUYvbT6vTPs   \n",
       "102                Cute and Funny Cat Videos Compilation  0vGh2rG3iNE   \n",
       "122    Try to stay SERIOUS -FUNNIEST And CUTEST CAT V...  Dz3QJmNI0_4   \n",
       "137                              How to Make a Cat Video  1Ne1hqOXKKI   \n",
       "...                                                  ...          ...   \n",
       "29609      MY FAVE CAT VIDS 🐱 pt. 1 | TikTok Compilation  sBXlhPINRHs   \n",
       "29614  3 minutes Ragdoll Cat&#39;s Cute and Funny Fac...  edb9EdpjrCM   \n",
       "29615  The Ultimate Big Cat Compilation - Game Grumps...  XJG3B_R7kX8   \n",
       "29624            Funny Crazy Cats Compilation 2017 !!!!!  aAK7qZU48to   \n",
       "29629                     1 HOUR  Funny Cats Compilation  9_9PilmkXdA   \n",
       "\n",
       "        viewCount  likeCount  dislikeCount  commentCount  favoriteCount  \\\n",
       "46    12197039.00  901282.00       6223.00      43385.00              0   \n",
       "96    12197039.00  901282.00       6223.00      43385.00              0   \n",
       "102         94.00       2.00          0.00          1.00              0   \n",
       "122       3352.00      86.00          2.00          9.00              0   \n",
       "137    6627810.00  145930.00       3861.00       6586.00              0   \n",
       "...           ...        ...           ...           ...            ...   \n",
       "29609     5085.00     141.00          1.00         12.00              0   \n",
       "29614     4374.00     169.00          2.00         16.00              0   \n",
       "29615   337161.00   10063.00         81.00        389.00              0   \n",
       "29624      719.00      10.00          0.00          0.00              0   \n",
       "29629      178.00       1.00          0.00          0.00              0   \n",
       "\n",
       "                                              thumbnails  \\\n",
       "46     {'default': {'url': 'https://i.ytimg.com/vi/NU...   \n",
       "96     {'default': {'url': 'https://i.ytimg.com/vi/NU...   \n",
       "102    {'default': {'url': 'https://i.ytimg.com/vi/0v...   \n",
       "122    {'default': {'url': 'https://i.ytimg.com/vi/Dz...   \n",
       "137    {'default': {'url': 'https://i.ytimg.com/vi/1N...   \n",
       "...                                                  ...   \n",
       "29609  {'default': {'url': 'https://i.ytimg.com/vi/sB...   \n",
       "29614  {'default': {'url': 'https://i.ytimg.com/vi/ed...   \n",
       "29615  {'default': {'url': 'https://i.ytimg.com/vi/XJ...   \n",
       "29624  {'default': {'url': 'https://i.ytimg.com/vi/aA...   \n",
       "29629  {'default': {'url': 'https://i.ytimg.com/vi/9_...   \n",
       "\n",
       "                                            descriptions     search_query  \\\n",
       "46     Cat Vibing To Ievan Polkka - Street Drummer Wi...       cat videos   \n",
       "96     Cat Vibing To Ievan Polkka - Street Drummer Wi...       cat videos   \n",
       "102    #Animal #Cute #Puppies\\n\\nCute and Funny Cat V...       cat videos   \n",
       "122    The best and funniest cat videos ever! Get rea...       cat videos   \n",
       "137    A look behind the scenes at Aaron's Animals an...       cat videos   \n",
       "...                                                  ...              ...   \n",
       "29609  New video's every week! ✨\\n---\\nIf you read th...  cat compilation   \n",
       "29614  Compilation of cute and funny faces from Bowie...  cat compilation   \n",
       "29615  This GameGrumps compilation was made 100% as a...  cat compilation   \n",
       "29624  Subscribe for more comedy & funny DUMBSTORE vi...  cat compilation   \n",
       "29629  I created this video with the YouTube Video Ed...  cat compilation   \n",
       "\n",
       "       Quality Metric  Quality  \n",
       "46             144.83        1  \n",
       "96             144.83        1  \n",
       "102               inf        1  \n",
       "122             43.00        1  \n",
       "137             37.80        1  \n",
       "...               ...      ...  \n",
       "29609          141.00        1  \n",
       "29614           84.50        1  \n",
       "29615          124.23        1  \n",
       "29624             inf        1  \n",
       "29629             inf        1  \n",
       "\n",
       "[6331 rows x 17 columns]"
      ]
     },
     "execution_count": 24,
     "metadata": {},
     "output_type": "execute_result"
    }
   ],
   "source": [
    "df_processed.loc[df_processed['Quality']==1]"
   ]
  },
  {
   "cell_type": "code",
   "execution_count": 25,
   "metadata": {
    "ExecuteTime": {
     "end_time": "2020-11-22T12:31:02.877031Z",
     "start_time": "2020-11-22T12:31:02.864838Z"
    }
   },
   "outputs": [
    {
     "data": {
      "text/plain": [
       "0    15146\n",
       "1     6331\n",
       "Name: Quality, dtype: int64"
      ]
     },
     "execution_count": 25,
     "metadata": {},
     "output_type": "execute_result"
    }
   ],
   "source": [
    "df_processed['Quality'].value_counts()"
   ]
  },
  {
   "cell_type": "code",
   "execution_count": null,
   "metadata": {},
   "outputs": [],
   "source": []
  },
  {
   "cell_type": "code",
   "execution_count": null,
   "metadata": {},
   "outputs": [],
   "source": []
  }
 ],
 "metadata": {
  "kernelspec": {
   "display_name": "Python 3",
   "language": "python",
   "name": "python3"
  },
  "language_info": {
   "codemirror_mode": {
    "name": "ipython",
    "version": 3
   },
   "file_extension": ".py",
   "mimetype": "text/x-python",
   "name": "python",
   "nbconvert_exporter": "python",
   "pygments_lexer": "ipython3",
   "version": "3.7.4"
  }
 },
 "nbformat": 4,
 "nbformat_minor": 2
}
